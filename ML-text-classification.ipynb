{
  "nbformat": 4,
  "nbformat_minor": 0,
  "metadata": {
    "colab": {
      "provenance": [],
      "include_colab_link": true
    },
    "kernelspec": {
      "name": "python3",
      "display_name": "Python 3"
    },
    "language_info": {
      "name": "python"
    }
  },
  "cells": [
    {
      "cell_type": "markdown",
      "metadata": {
        "id": "view-in-github",
        "colab_type": "text"
      },
      "source": [
        "<a href=\"https://colab.research.google.com/github/kvin-alxndr/ML-Text-Classification/blob/main/ML-text-classification.ipynb\" target=\"_parent\"><img src=\"https://colab.research.google.com/assets/colab-badge.svg\" alt=\"Open In Colab\"/></a>"
      ]
    },
    {
      "cell_type": "markdown",
      "source": [
        "# Clasificación de texto con Machine Learning"
      ],
      "metadata": {
        "id": "jz75c77_Gigh"
      }
    },
    {
      "cell_type": "code",
      "execution_count": null,
      "metadata": {
        "id": "eTDygbrzF67u"
      },
      "outputs": [],
      "source": [
        "import pandas as pd"
      ]
    },
    {
      "cell_type": "markdown",
      "source": [
        "- Leemos y guardamos el contenido de los archivos en un DataFrame"
      ],
      "metadata": {
        "id": "oMIivrkhHiLB"
      }
    },
    {
      "cell_type": "code",
      "source": [
        "train_df = pd.read_csv('./cyberbullying_train.csv')\n",
        "test_df = pd.read_csv('./cyberbullying_test.csv')"
      ],
      "metadata": {
        "id": "LvvtWQ6dXKr3"
      },
      "execution_count": null,
      "outputs": []
    },
    {
      "cell_type": "markdown",
      "source": [
        "- Imprimimos los primeros 5 registros dentro de cada archivo"
      ],
      "metadata": {
        "id": "XTqK96AIHxTV"
      }
    },
    {
      "cell_type": "code",
      "source": [
        "train_df.head(),test_df.head()"
      ],
      "metadata": {
        "id": "8DfTQZlOvErt",
        "outputId": "c0030635-e9fe-4ca6-9855-aa9ee13c518b",
        "colab": {
          "base_uri": "https://localhost:8080/"
        }
      },
      "execution_count": null,
      "outputs": [
        {
          "output_type": "execute_result",
          "data": {
            "text/plain": [
              "(                                                text  cyberbullying\n",
              " 0  Celebrating my first 🌈 Pride month. Out as gay...              0\n",
              " 1              two glasses and you define as asexual              0\n",
              " 2  Pride parades are held in every city in India ...              0\n",
              " 3  Tell him the truth. Only black gangs have gays...              0\n",
              " 4  I thought I was weird that I was often attract...              0,\n",
              "                                                 text  cyberbullying\n",
              " 0  Yeah the Bible says gay sex is a sin... But al...              0\n",
              " 1  Sounds like she found a way to ground him for ...              0\n",
              " 2  I know they're genderswapped but I didn't expe...              0\n",
              " 3  One of my friends is in a relationship like th...              0\n",
              " 4        Fuck you smurf ass faggot. Go drink bleach.              1)"
            ]
          },
          "metadata": {},
          "execution_count": 54
        }
      ]
    },
    {
      "cell_type": "markdown",
      "source": [
        "- Verifica cadenas vacias en ambos archivos"
      ],
      "metadata": {
        "id": "btINhGqFIZcz"
      }
    },
    {
      "cell_type": "code",
      "source": [
        "train_df['text'].isna().sum(), test_df['text'].isna().sum()"
      ],
      "metadata": {
        "id": "I_ilEjdfIaXL",
        "outputId": "37097a06-1f1b-4859-8b44-e3e46e9b7e9c",
        "colab": {
          "base_uri": "https://localhost:8080/"
        }
      },
      "execution_count": null,
      "outputs": [
        {
          "output_type": "execute_result",
          "data": {
            "text/plain": [
              "(0, 0)"
            ]
          },
          "metadata": {},
          "execution_count": 55
        }
      ]
    },
    {
      "cell_type": "markdown",
      "source": [
        "- Observamos longitud inicial de ambos archivos"
      ],
      "metadata": {
        "id": "rPh1bqGEIY2C"
      }
    },
    {
      "cell_type": "code",
      "source": [
        "len(train_df), len(test_df)"
      ],
      "metadata": {
        "id": "g5ZzcROSJd-e",
        "outputId": "338fc283-7be7-4414-b74e-74ac791c65ca",
        "colab": {
          "base_uri": "https://localhost:8080/"
        }
      },
      "execution_count": null,
      "outputs": [
        {
          "output_type": "execute_result",
          "data": {
            "text/plain": [
              "(3439, 860)"
            ]
          },
          "metadata": {},
          "execution_count": 56
        }
      ]
    },
    {
      "cell_type": "markdown",
      "source": [
        "- Eliminamos duplicados"
      ],
      "metadata": {
        "id": "KIA83XbqJxIV"
      }
    },
    {
      "cell_type": "code",
      "source": [
        "train_df = train_df.drop_duplicates(subset=['text'])\n",
        "test_df = test_df.drop_duplicates(subset=['text'])\n",
        "\n",
        "len(train_df), len(test_df)"
      ],
      "metadata": {
        "id": "R87ZD--uJ1VA",
        "outputId": "3866661e-585d-47c1-8d09-4864df47b7f3",
        "colab": {
          "base_uri": "https://localhost:8080/"
        }
      },
      "execution_count": null,
      "outputs": [
        {
          "output_type": "execute_result",
          "data": {
            "text/plain": [
              "(3439, 860)"
            ]
          },
          "metadata": {},
          "execution_count": 57
        }
      ]
    },
    {
      "cell_type": "markdown",
      "source": [
        "- Ordenamos alfanumericamente"
      ],
      "metadata": {
        "id": "dtQAiTZcL9zD"
      }
    },
    {
      "cell_type": "code",
      "source": [
        "train_df.sort_values(by='text', ascending=True, inplace=False), test_df.sort_values(by='text', ascending=True, inplace=False)"
      ],
      "metadata": {
        "id": "YqwPcTGMMJkc",
        "outputId": "e0bf806d-9fa4-407c-9023-4e3ebfab074a",
        "colab": {
          "base_uri": "https://localhost:8080/"
        }
      },
      "execution_count": null,
      "outputs": [
        {
          "output_type": "execute_result",
          "data": {
            "text/plain": [
              "(                                                   text  cyberbullying\n",
              " 506   ! thank u! im transmasc and generally present ...              0\n",
              " 2105                          !Go fuck yourself faggot!              1\n",
              " 1246             !flair [death to all niggers and gays]              1\n",
              " 2827  \" *gulhfg* that's the sound of your mom suckin...              1\n",
              " 1866  \"...WHO Will Stop Classifying Transgender Peop...              1\n",
              " ...                                                 ...            ...\n",
              " 3401  ❤️ for sure! Feels awful to think of people di...              0\n",
              " 2685  🌈☁️🌈 happy pride !! i'm bi as fck and am grate...              0\n",
              " 873   📷 exposingwhitefaggots: Faggot Paul Girvan pig...              1\n",
              " 2603  😂😂😂If my son was as gay as you I'd shoot drown...              1\n",
              " 2127  😩 fizz is a thirsty ass drama queen gay ass bi...              0\n",
              " \n",
              " [3439 rows x 2 columns],\n",
              "                                                   text  cyberbullying\n",
              " 213                            CALL AND SERVE FAGGOT !              1\n",
              " 78   \"Dating\" seriously ? We're men lol and Gay men...              0\n",
              " 457  \"Hahahaha. I endorce the police state in Ameri...              1\n",
              " 434  \"Hey there guys, gals, and nonbinary pals!\" be...              0\n",
              " 556  \"I believe it is important for me to make clea...              0\n",
              " ..                                                 ...            ...\n",
              " 757                       your a fuckin little gay kys              1\n",
              " 128  ✨🏳️‍🌈 LGBT+ Artist Discovery! 🏳️‍🌈✨ Hey my #ar...              0\n",
              " 494  💗💜💙 First year accepting my sexuality. Oddly e...              0\n",
              " 793  🤡  clown rights, russian and a lesbian? must b...              0\n",
              " 774  🤣🤣🤣🤣 disgusting sick gay fag, you deserve this...              1\n",
              " \n",
              " [860 rows x 2 columns])"
            ]
          },
          "metadata": {},
          "execution_count": 58
        }
      ]
    },
    {
      "cell_type": "markdown",
      "source": [
        "- Definimos una función para eliminar emotes"
      ],
      "metadata": {
        "id": "RQ5dvNjxUlnK"
      }
    },
    {
      "cell_type": "code",
      "source": [
        "!pip install demoji\n",
        "import demoji\n",
        "from nltk.tokenize import TweetTokenizer\n",
        "\n",
        "def deEmojify(text):\n",
        "    return demoji.replace(text,'')\n",
        "\n",
        "# ...\n",
        "\n",
        "def remove_emojis(text):\n",
        "    # Utilizamos la función deEmojify para eliminar emojis\n",
        "    text_without_emojis = deEmojify(text)\n",
        "\n",
        "    # Tokenizar el texto utilizando el tokenizador de Tweet\n",
        "    tokenizer = TweetTokenizer()\n",
        "    tokens = tokenizer.tokenize(text_without_emojis)\n",
        "\n",
        "    # Filtrar los tokens para eliminar emojis y caracteres no deseados\n",
        "    tokens = [token for token in tokens if token.isalnum()]\n",
        "\n",
        "    # Reconstruir el texto a partir de los tokens limpios\n",
        "    cleaned_text = ' '.join(tokens)\n",
        "\n",
        "    return cleaned_text\n",
        "\n",
        "# ...\n",
        "\n",
        "\n"
      ],
      "metadata": {
        "id": "1LxBOMXhUtxk",
        "outputId": "4b5f7e7c-47bc-4703-9733-3c6dd66547db",
        "colab": {
          "base_uri": "https://localhost:8080/"
        }
      },
      "execution_count": null,
      "outputs": [
        {
          "output_type": "stream",
          "name": "stdout",
          "text": [
            "Requirement already satisfied: demoji in /usr/local/lib/python3.10/dist-packages (1.1.0)\n"
          ]
        }
      ]
    },
    {
      "cell_type": "markdown",
      "source": [
        "- Eliminamos emotes"
      ],
      "metadata": {
        "id": "fLdoxXP7U8ez"
      }
    },
    {
      "cell_type": "code",
      "source": [
        "# Aplicamos remove_emojis a los DataFrames\n",
        "train_df['text'] = train_df['text'].apply(remove_emojis)\n",
        "test_df['text'] = test_df['text'].apply(remove_emojis)"
      ],
      "metadata": {
        "id": "XO9S0fG_VATG"
      },
      "execution_count": null,
      "outputs": []
    },
    {
      "cell_type": "markdown",
      "source": [
        "- Elimina cadenas de espacios"
      ],
      "metadata": {
        "id": "9gZNhIeTNT0I"
      }
    },
    {
      "cell_type": "code",
      "source": [
        "train_df = train_df[train_df['text'].str.strip() != \"\"]\n",
        "test_df = test_df[test_df['text'].str.strip() != \"\"]\n",
        "train_df, test_df"
      ],
      "metadata": {
        "id": "GECZwgToNZLJ",
        "colab": {
          "base_uri": "https://localhost:8080/"
        },
        "outputId": "0c8490a4-6d42-45ce-b778-cbad2bd9ad02"
      },
      "execution_count": null,
      "outputs": [
        {
          "output_type": "execute_result",
          "data": {
            "text/plain": [
              "(                                                   text  cyberbullying\n",
              " 0     Celebrating my first Pride month Out as gay he...              0\n",
              " 1                 two glasses and you define as asexual              0\n",
              " 2     Pride parades are held in every city in India ...              0\n",
              " 3     Tell him the truth Only black gangs have gays ...              0\n",
              " 4     I thought I was weird that I was often attract...              0\n",
              " ...                                                 ...            ...\n",
              " 3434  She propped up on my desk kinda close Innocuou...              0\n",
              " 3435  Tell him going to decimate him decapitate him ...              0\n",
              " 3436  I like pride month personally bc I take a lot ...              0\n",
              " 3437  I was and still am bi but I found much more at...              0\n",
              " 3438      Also me as a closeted trans girl here for you              0\n",
              " \n",
              " [3439 rows x 2 columns],\n",
              "                                                   text  cyberbullying\n",
              " 0    Yeah the Bible says gay sex is a sin But also ...              0\n",
              " 1    Sounds like she found a way to ground him for ...              0\n",
              " 2    I know genderswapped but I expect fem squadra ...              0\n",
              " 3    One of my friends is in a relationship like th...              0\n",
              " 4            Fuck you smurf ass faggot Go drink bleach              1\n",
              " ..                                                 ...            ...\n",
              " 855  YOUR SO DUMBFOUNDED JUST STOP MAKING YOUR GAY ...              0\n",
              " 856  pro women period all for a bitch sorry if you ...              0\n",
              " 857  Totes is Although she did date mako so perhaps bi              0\n",
              " 858  Fuck yes In fact if this picture on an ask tra...              0\n",
              " 859  Well everyone is technically biracial its the ...              0\n",
              " \n",
              " [860 rows x 2 columns])"
            ]
          },
          "metadata": {},
          "execution_count": 61
        }
      ]
    },
    {
      "cell_type": "markdown",
      "source": [
        "- Elimina puntuación y convierte a minúsculas"
      ],
      "metadata": {
        "id": "C6Rz1UIybAcD"
      }
    },
    {
      "cell_type": "code",
      "source": [
        "import string\n",
        "train_df['text'] = train_df['text'].str.lower().str.translate(str.maketrans('', '', string.punctuation))\n",
        "test_df['text'] = test_df['text'].str.lower().str.translate(str.maketrans('', '', string.punctuation))\n",
        "train_df, test_df"
      ],
      "metadata": {
        "id": "wGaQvkJsbCEK",
        "colab": {
          "base_uri": "https://localhost:8080/"
        },
        "outputId": "cc5697c1-616b-42e0-d706-ed817244fd95"
      },
      "execution_count": null,
      "outputs": [
        {
          "output_type": "execute_result",
          "data": {
            "text/plain": [
              "(                                                   text  cyberbullying\n",
              " 0     celebrating my first pride month out as gay he...              0\n",
              " 1                 two glasses and you define as asexual              0\n",
              " 2     pride parades are held in every city in india ...              0\n",
              " 3     tell him the truth only black gangs have gays ...              0\n",
              " 4     i thought i was weird that i was often attract...              0\n",
              " ...                                                 ...            ...\n",
              " 3434  she propped up on my desk kinda close innocuou...              0\n",
              " 3435  tell him going to decimate him decapitate him ...              0\n",
              " 3436  i like pride month personally bc i take a lot ...              0\n",
              " 3437  i was and still am bi but i found much more at...              0\n",
              " 3438      also me as a closeted trans girl here for you              0\n",
              " \n",
              " [3439 rows x 2 columns],\n",
              "                                                   text  cyberbullying\n",
              " 0    yeah the bible says gay sex is a sin but also ...              0\n",
              " 1    sounds like she found a way to ground him for ...              0\n",
              " 2    i know genderswapped but i expect fem squadra ...              0\n",
              " 3    one of my friends is in a relationship like th...              0\n",
              " 4            fuck you smurf ass faggot go drink bleach              1\n",
              " ..                                                 ...            ...\n",
              " 855  your so dumbfounded just stop making your gay ...              0\n",
              " 856  pro women period all for a bitch sorry if you ...              0\n",
              " 857  totes is although she did date mako so perhaps bi              0\n",
              " 858  fuck yes in fact if this picture on an ask tra...              0\n",
              " 859  well everyone is technically biracial its the ...              0\n",
              " \n",
              " [860 rows x 2 columns])"
            ]
          },
          "metadata": {},
          "execution_count": 62
        }
      ]
    },
    {
      "cell_type": "markdown",
      "source": [
        "## Entrenamiento\n"
      ],
      "metadata": {
        "id": "ur_F2dxlbZ5U"
      }
    },
    {
      "cell_type": "code",
      "source": [
        "test_df['cyberbullying'].value_counts()"
      ],
      "metadata": {
        "id": "A9BHnkOXbb2n",
        "colab": {
          "base_uri": "https://localhost:8080/"
        },
        "outputId": "f91da4c4-5f66-4f86-b9ba-72687de2bde5"
      },
      "execution_count": null,
      "outputs": [
        {
          "output_type": "execute_result",
          "data": {
            "text/plain": [
              "0    590\n",
              "1    270\n",
              "Name: cyberbullying, dtype: int64"
            ]
          },
          "metadata": {},
          "execution_count": 63
        }
      ]
    },
    {
      "cell_type": "markdown",
      "source": [
        "- Hacemos uso del método BoW"
      ],
      "metadata": {
        "id": "LYR5v9-kfRyF"
      }
    },
    {
      "cell_type": "code",
      "source": [
        "from sklearn.feature_extraction.text import CountVectorizer\n",
        "from sklearn.model_selection import train_test_split\n",
        "from sklearn.naive_bayes import MultinomialNB\n",
        "from sklearn.metrics import classification_report\n",
        "\n",
        "X_train = train_df['text'].values\n",
        "y_train = train_df['cyberbullying'].values\n",
        "\n",
        "X_test = test_df['text'].values\n",
        "y_test = test_df['cyberbullying'].values\n",
        "\n",
        "\n",
        "vector = CountVectorizer(stop_words = 'english')\n",
        "\n",
        "X_train_bow = vector.fit_transform(X_train) #\n",
        "X_test_bow = vector.transform(X_test)\n",
        "\n",
        "\n",
        "X_train_bow.shape, X_test_bow.shape"
      ],
      "metadata": {
        "id": "_qup3PO3fWOv",
        "colab": {
          "base_uri": "https://localhost:8080/"
        },
        "outputId": "774e622d-b7dc-49ac-df2a-a2614e17fae9"
      },
      "execution_count": null,
      "outputs": [
        {
          "output_type": "execute_result",
          "data": {
            "text/plain": [
              "((3439, 8619), (860, 8619))"
            ]
          },
          "metadata": {},
          "execution_count": 64
        }
      ]
    },
    {
      "cell_type": "markdown",
      "source": [
        "### Naive Bayes"
      ],
      "metadata": {
        "id": "uyYOWKJNgLQK"
      }
    },
    {
      "cell_type": "code",
      "source": [
        "import time\n",
        "\n",
        "bayes_pred = MultinomialNB()\n",
        "start = time.time()\n",
        "bayes_pred.fit(X_train_bow, y_train)\n",
        "print(f'Time taken for validation is: {time.time()-start:.4f} secs')\n",
        "\n",
        "start = time.time()\n",
        "predictions = bayes_pred.predict(X_test_bow)\n",
        "print(f'Time taken for validation is: {time.time()-start:.4f} secs')"
      ],
      "metadata": {
        "id": "vfEMbPb1gNRh",
        "colab": {
          "base_uri": "https://localhost:8080/"
        },
        "outputId": "c16cc9ee-4b0b-47d5-bec5-cf223517c53b"
      },
      "execution_count": null,
      "outputs": [
        {
          "output_type": "stream",
          "name": "stdout",
          "text": [
            "Time taken for validation is: 0.0062 secs\n",
            "Time taken for validation is: 0.0007 secs\n"
          ]
        }
      ]
    },
    {
      "cell_type": "code",
      "source": [
        "print(classification_report(y_test, predictions))"
      ],
      "metadata": {
        "id": "HUbvBNfLgWl3",
        "colab": {
          "base_uri": "https://localhost:8080/"
        },
        "outputId": "fb7f8209-0b34-4331-b1a5-a63391031b87"
      },
      "execution_count": null,
      "outputs": [
        {
          "output_type": "stream",
          "name": "stdout",
          "text": [
            "              precision    recall  f1-score   support\n",
            "\n",
            "           0       0.92      0.93      0.93       590\n",
            "           1       0.84      0.83      0.84       270\n",
            "\n",
            "    accuracy                           0.90       860\n",
            "   macro avg       0.88      0.88      0.88       860\n",
            "weighted avg       0.90      0.90      0.90       860\n",
            "\n"
          ]
        }
      ]
    },
    {
      "cell_type": "code",
      "source": [
        "import matplotlib.pyplot as plt\n",
        "import numpy as np\n",
        "from sklearn.metrics import confusion_matrix\n",
        "from sklearn.metrics import ConfusionMatrixDisplay\n",
        "\n",
        "cm = confusion_matrix(y_test, predictions)\n",
        "\n",
        "# plot the confusion matrix\n",
        "disp = ConfusionMatrixDisplay(cm, display_labels=np.unique(y_test))\n",
        "disp.plot()\n",
        "plt.show()"
      ],
      "metadata": {
        "id": "6DJYE1V7g6PM",
        "colab": {
          "base_uri": "https://localhost:8080/",
          "height": 449
        },
        "outputId": "62802208-7a66-4832-bd9e-0da94851ff8e"
      },
      "execution_count": null,
      "outputs": [
        {
          "output_type": "display_data",
          "data": {
            "text/plain": [
              "<Figure size 640x480 with 2 Axes>"
            ],
            "image/png": "[encoded data removed]"
          },
          "metadata": {}
        }
      ]
    },
    {
      "cell_type": "markdown",
      "source": [
        "### Árboles de decisión"
      ],
      "metadata": {
        "id": "4jJQ3_KJgrXH"
      }
    },
    {
      "cell_type": "code",
      "source": [
        "from sklearn.tree import DecisionTreeClassifier\n",
        "import time\n",
        "\n",
        "tree = DecisionTreeClassifier()\n",
        "start = time.time()\n",
        "tree_fit = tree.fit(X_train_bow, y_train)\n",
        "print(f'Time taken for validation is: {time.time()-start:.4f} secs')\n",
        "\n",
        "\n",
        "start = time.time()\n",
        "tree_predictions = tree.predict(X_test_bow)\n",
        "print(f'Time taken for validation is: {time.time()-start:.4f} secs')"
      ],
      "metadata": {
        "id": "05mR9vLLgzK4",
        "colab": {
          "base_uri": "https://localhost:8080/"
        },
        "outputId": "fb04a84e-7dd4-4544-b3af-b251376c574d"
      },
      "execution_count": null,
      "outputs": [
        {
          "output_type": "stream",
          "name": "stdout",
          "text": [
            "Time taken for validation is: 0.8670 secs\n",
            "Time taken for validation is: 0.0015 secs\n"
          ]
        }
      ]
    },
    {
      "cell_type": "code",
      "source": [
        "print(classification_report(y_test, tree_predictions))"
      ],
      "metadata": {
        "id": "T0wYr-Z7hEO_",
        "colab": {
          "base_uri": "https://localhost:8080/"
        },
        "outputId": "03760038-6e5c-4bce-fde5-f5296e500485"
      },
      "execution_count": null,
      "outputs": [
        {
          "output_type": "stream",
          "name": "stdout",
          "text": [
            "              precision    recall  f1-score   support\n",
            "\n",
            "           0       0.88      0.91      0.89       590\n",
            "           1       0.78      0.73      0.75       270\n",
            "\n",
            "    accuracy                           0.85       860\n",
            "   macro avg       0.83      0.82      0.82       860\n",
            "weighted avg       0.85      0.85      0.85       860\n",
            "\n"
          ]
        }
      ]
    },
    {
      "cell_type": "code",
      "source": [
        "import matplotlib.pyplot as plt\n",
        "import numpy as np\n",
        "from sklearn.metrics import confusion_matrix\n",
        "from sklearn.metrics import ConfusionMatrixDisplay\n",
        "\n",
        "cm = confusion_matrix(y_test, tree_predictions)\n",
        "\n",
        "# plot the confusion matrix\n",
        "disp = ConfusionMatrixDisplay(cm, display_labels=np.unique(y_test))\n",
        "disp.plot()\n",
        "plt.show()"
      ],
      "metadata": {
        "id": "Dc5lW4hmhI00",
        "colab": {
          "base_uri": "https://localhost:8080/",
          "height": 449
        },
        "outputId": "db84d1d7-3898-4771-8372-5f6ba36cb2ed"
      },
      "execution_count": null,
      "outputs": [
        {
          "output_type": "display_data",
          "data": {
            "text/plain": [
              "<Figure size 640x480 with 2 Axes>"
            ],
            "image/png": "[encoded data removed]"
          },
          "metadata": {}
        }
      ]
    },
    {
      "cell_type": "markdown",
      "source": [
        "### Regresión logística"
      ],
      "metadata": {
        "id": "hlbPrtNchSnc"
      }
    },
    {
      "cell_type": "code",
      "source": [
        "from sklearn.linear_model import LogisticRegression\n",
        "import time\n",
        "\n",
        "logistic = LogisticRegression()\n",
        "logistic.solver='newton-cg'\n",
        "start = time.time()\n",
        "logistic.fit(X_train_bow,y_train)\n",
        "print(f'Time taken for validation is: {time.time()-start:.4f} secs')\n",
        "\n",
        "start = time.time()\n",
        "logistic_predictions = logistic.predict(X_test_bow)\n",
        "print(f'Time taken for validation is: {time.time()-start:.4f} secs')"
      ],
      "metadata": {
        "id": "LhpPvnGzhXaJ",
        "colab": {
          "base_uri": "https://localhost:8080/"
        },
        "outputId": "eb691e45-b034-49e0-c7b6-917e4c766282"
      },
      "execution_count": null,
      "outputs": [
        {
          "output_type": "stream",
          "name": "stdout",
          "text": [
            "Time taken for validation is: 0.2027 secs\n",
            "Time taken for validation is: 0.0015 secs\n"
          ]
        }
      ]
    },
    {
      "cell_type": "code",
      "source": [
        "print(classification_report(y_test, logistic_predictions))"
      ],
      "metadata": {
        "id": "PVHMU8dohbry",
        "colab": {
          "base_uri": "https://localhost:8080/"
        },
        "outputId": "1f5d1971-c1b5-498c-f34c-cfebcdac3603"
      },
      "execution_count": null,
      "outputs": [
        {
          "output_type": "stream",
          "name": "stdout",
          "text": [
            "              precision    recall  f1-score   support\n",
            "\n",
            "           0       0.91      0.96      0.93       590\n",
            "           1       0.91      0.79      0.84       270\n",
            "\n",
            "    accuracy                           0.91       860\n",
            "   macro avg       0.91      0.87      0.89       860\n",
            "weighted avg       0.91      0.91      0.91       860\n",
            "\n"
          ]
        }
      ]
    },
    {
      "cell_type": "code",
      "source": [
        "import matplotlib.pyplot as plt\n",
        "import numpy as np\n",
        "from sklearn.metrics import confusion_matrix\n",
        "from sklearn.metrics import ConfusionMatrixDisplay\n",
        "\n",
        "cm = confusion_matrix(y_test, logistic_predictions)\n",
        "\n",
        "# plot the confusion matrix\n",
        "disp = ConfusionMatrixDisplay(cm, display_labels=np.unique(y_test))\n",
        "disp.plot()\n",
        "plt.show()"
      ],
      "metadata": {
        "id": "VjA14NDOhnUV",
        "colab": {
          "base_uri": "https://localhost:8080/",
          "height": 449
        },
        "outputId": "4d2714bc-d42b-4390-8f37-3b756326bbde"
      },
      "execution_count": null,
      "outputs": [
        {
          "output_type": "display_data",
          "data": {
            "text/plain": [
              "<Figure size 640x480 with 2 Axes>"
            ],
            "image/png": "[encoded data removed]"
          },
          "metadata": {}
        }
      ]
    },
    {
      "cell_type": "markdown",
      "source": [
        "### SVM"
      ],
      "metadata": {
        "id": "nASwjnRVhtQ0"
      }
    },
    {
      "cell_type": "code",
      "source": [
        "from sklearn.svm import SVC\n",
        "import time\n",
        "\n",
        "svm = SVC()\n",
        "svm.kernel='linear'\n",
        "\n",
        "start = time.time()\n",
        "svm.fit(X_train_bow,y_train)\n",
        "print(f'Time taken for validation is: {time.time()-start:.4f} secs')\n",
        "\n",
        "start = time.time()\n",
        "svm_predictions = svm.predict(X_test_bow)\n",
        "print(f'Time taken for validation is: {time.time()-start:.4f} secs')"
      ],
      "metadata": {
        "id": "2YyElvKNhvTa",
        "colab": {
          "base_uri": "https://localhost:8080/"
        },
        "outputId": "c281d32e-d0d8-433f-c474-c97894345f8c"
      },
      "execution_count": null,
      "outputs": [
        {
          "output_type": "stream",
          "name": "stdout",
          "text": [
            "Time taken for validation is: 0.9041 secs\n",
            "Time taken for validation is: 0.1186 secs\n"
          ]
        }
      ]
    },
    {
      "cell_type": "code",
      "source": [
        "print(classification_report(y_test, svm_predictions))"
      ],
      "metadata": {
        "id": "4k35Tdblh6Ed",
        "colab": {
          "base_uri": "https://localhost:8080/"
        },
        "outputId": "c8003e77-4312-4553-e795-2e50829c0139"
      },
      "execution_count": null,
      "outputs": [
        {
          "output_type": "stream",
          "name": "stdout",
          "text": [
            "              precision    recall  f1-score   support\n",
            "\n",
            "           0       0.92      0.94      0.93       590\n",
            "           1       0.86      0.83      0.85       270\n",
            "\n",
            "    accuracy                           0.90       860\n",
            "   macro avg       0.89      0.89      0.89       860\n",
            "weighted avg       0.90      0.90      0.90       860\n",
            "\n"
          ]
        }
      ]
    },
    {
      "cell_type": "code",
      "source": [
        "cm = confusion_matrix(y_test, svm_predictions)\n",
        "\n",
        "# plot the confusion matrix\n",
        "disp = ConfusionMatrixDisplay(cm, display_labels=np.unique(y_test))\n",
        "disp.plot()\n",
        "plt.show()"
      ],
      "metadata": {
        "id": "UgZWURsJh_ih",
        "colab": {
          "base_uri": "https://localhost:8080/",
          "height": 449
        },
        "outputId": "e3fb32a7-66d6-4137-ef16-3969a8843da6"
      },
      "execution_count": null,
      "outputs": [
        {
          "output_type": "display_data",
          "data": {
            "text/plain": [
              "<Figure size 640x480 with 2 Axes>"
            ],
            "image/png": "[encoded data removed]"
          },
          "metadata": {}
        }
      ]
    }
  ]
}